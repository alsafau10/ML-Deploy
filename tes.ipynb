{
 "cells": [
  {
   "cell_type": "code",
   "execution_count": 58,
   "id": "2c1434a8-18a8-411b-85d1-5216b13ec2db",
   "metadata": {},
   "outputs": [],
   "source": [
    "from ultralytics import YOLO\n",
    "import os"
   ]
  },
  {
   "cell_type": "code",
   "execution_count": 57,
   "id": "9cc12c75-504b-479c-8d05-8eaecb9067fb",
   "metadata": {},
   "outputs": [
    {
     "name": "stdout",
     "output_type": "stream",
     "text": [
      "\n",
      "image 1/1 D:\\aa\\Fauzan\\Tutorial\\CollegeStudy\\Semester 6\\PCD\\TUBES\\Mold_Detection\\image\\test\\2.jpg: 640x640 5 mold-breads, 2451.6ms\n",
      "Speed: 7.5ms preprocess, 2451.6ms inference, 3.0ms postprocess per image at shape (1, 3, 640, 640)\n",
      "Results saved to \u001b[1mimage\\result\\a\u001b[0m\n"
     ]
    }
   ],
   "source": [
    "model = YOLO('best.pt')\n",
    "save_dir = 'image/result'\n",
    "os.makedirs(save_dir, exist_ok=True)\n",
    "results = model.predict('image/test/2.jpg', imgsz=640,save=True,project=save_dir, exist_ok=True)\n",
    "\n",
    "\n"
   ]
  },
  {
   "cell_type": "code",
   "execution_count": 44,
   "id": "7024dd28-c755-41b4-92a0-bad501f96acf",
   "metadata": {},
   "outputs": [
    {
     "name": "stdout",
     "output_type": "stream",
     "text": [
      "[\n",
      "  {\n",
      "    \"name\": \"mold-bread\",\n",
      "    \"class\": 0,\n",
      "    \"confidence\": 0.52476,\n",
      "    \"box\": {\n",
      "      \"x1\": 62.35961,\n",
      "      \"y1\": 96.51199,\n",
      "      \"x2\": 107.6628,\n",
      "      \"y2\": 141.93027\n",
      "    }\n",
      "  },\n",
      "  {\n",
      "    \"name\": \"mold-bread\",\n",
      "    \"class\": 0,\n",
      "    \"confidence\": 0.31585,\n",
      "    \"box\": {\n",
      "      \"x1\": 77.11616,\n",
      "      \"y1\": 83.00755,\n",
      "      \"x2\": 147.34326,\n",
      "      \"y2\": 208.571\n",
      "    }\n",
      "  },\n",
      "  {\n",
      "    \"name\": \"mold-bread\",\n",
      "    \"class\": 0,\n",
      "    \"confidence\": 0.30703,\n",
      "    \"box\": {\n",
      "      \"x1\": 121.94322,\n",
      "      \"y1\": 169.7749,\n",
      "      \"x2\": 144.2814,\n",
      "      \"y2\": 205.87383\n",
      "    }\n",
      "  },\n",
      "  {\n",
      "    \"name\": \"mold-bread\",\n",
      "    \"class\": 0,\n",
      "    \"confidence\": 0.26929,\n",
      "    \"box\": {\n",
      "      \"x1\": 61.35914,\n",
      "      \"y1\": 96.42536,\n",
      "      \"x2\": 125.60298,\n",
      "      \"y2\": 144.08073\n",
      "    }\n",
      "  },\n",
      "  {\n",
      "    \"name\": \"mold-bread\",\n",
      "    \"class\": 0,\n",
      "    \"confidence\": 0.25164,\n",
      "    \"box\": {\n",
      "      \"x1\": 98.10604,\n",
      "      \"y1\": 104.35667,\n",
      "      \"x2\": 123.58917,\n",
      "      \"y2\": 144.98889\n",
      "    }\n",
      "  }\n",
      "]\n"
     ]
    }
   ],
   "source": [
    "i = 0\n",
    "x0,x1 = [],[]\n",
    "y0,y1 = [],[]\n",
    "conf = []\n",
    "print(results[0].tojson())\n",
    "    "
   ]
  },
  {
   "cell_type": "code",
   "execution_count": 36,
   "id": "fef14fdd-7979-4d25-b4b9-682a6a1831d0",
   "metadata": {},
   "outputs": [],
   "source": [
    "result.show()"
   ]
  },
  {
   "cell_type": "code",
   "execution_count": null,
   "id": "17215c20-0890-4d59-ae76-163e38d01106",
   "metadata": {},
   "outputs": [],
   "source": []
  }
 ],
 "metadata": {
  "kernelspec": {
   "display_name": "Python 3 (ipykernel)",
   "language": "python",
   "name": "python3"
  },
  "language_info": {
   "codemirror_mode": {
    "name": "ipython",
    "version": 3
   },
   "file_extension": ".py",
   "mimetype": "text/x-python",
   "name": "python",
   "nbconvert_exporter": "python",
   "pygments_lexer": "ipython3",
   "version": "3.11.9"
  }
 },
 "nbformat": 4,
 "nbformat_minor": 5
}
